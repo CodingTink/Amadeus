{
 "cells": [
  {
   "cell_type": "code",
   "execution_count": 6,
   "metadata": {
    "collapsed": false
   },
   "outputs": [
    {
     "name": "stdout",
     "output_type": "stream",
     "text": [
      "Bookings: 10000011 -- Searches: 20390199\n",
      "\n"
     ]
    }
   ],
   "source": [
    "import sys\n",
    "import bz2\n",
    "\n",
    "def bz2_count_lines(filepath):\n",
    "    with bz2.open(filepath) as fh:\n",
    "        count = 0\n",
    "        for _ in fh:\n",
    "            count += 1\n",
    "        return count\n",
    "\n",
    "def count_lines(filepath):\n",
    "    with open(filepath) as fh:\n",
    "        count = 0\n",
    "        for _ in fh:\n",
    "            count += 1\n",
    "        return count\n",
    "    \n",
    "nbookings = count_lines('bookings.csv')\n",
    "nsearches = count_lines('searches.csv')\n",
    "print(\"Bookings: %d -- Searches: %d\\n\" % (nbookings, nsearches))"
   ]
  }
 ],
 "metadata": {
  "anaconda-cloud": {},
  "kernelspec": {
   "display_name": "Python [Root]",
   "language": "python",
   "name": "Python [Root]"
  },
  "language_info": {
   "codemirror_mode": {
    "name": "ipython",
    "version": 3
   },
   "file_extension": ".py",
   "mimetype": "text/x-python",
   "name": "python",
   "nbconvert_exporter": "python",
   "pygments_lexer": "ipython3",
   "version": "3.5.1"
  }
 },
 "nbformat": 4,
 "nbformat_minor": 0
}
